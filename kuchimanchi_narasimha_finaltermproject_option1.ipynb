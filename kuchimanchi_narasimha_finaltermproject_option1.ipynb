{
 "cells": [
  {
   "cell_type": "code",
   "execution_count": 1,
   "metadata": {},
   "outputs": [],
   "source": [
    "import csv\n",
    "from sklearn import preprocessing\n",
    "from sklearn.preprocessing import MinMaxScaler\n",
    "from sklearn.model_selection import KFold\n",
    "from sklearn.model_selection import cross_val_score\n",
    "from sklearn.naive_bayes import GaussianNB\n",
    "from sklearn.tree import DecisionTreeClassifier\n",
    "import numpy as np\n",
    "import math"
   ]
  },
  {
   "cell_type": "code",
   "execution_count": 2,
   "metadata": {},
   "outputs": [],
   "source": [
    "le = preprocessing.LabelEncoder()\n",
    "scaler = MinMaxScaler(feature_range=(0, 1))"
   ]
  },
  {
   "cell_type": "code",
   "execution_count": 3,
   "metadata": {},
   "outputs": [],
   "source": [
    "def get_data(filename):\n",
    "    with open(filename, \"rt\", encoding='utf8') as f:\n",
    "        file = csv.reader(f)\n",
    "        temp = list(file)\n",
    "    return temp"
   ]
  },
  {
   "cell_type": "code",
   "execution_count": 4,
   "metadata": {},
   "outputs": [],
   "source": [
    "def to_csv(filename, nested_list):\n",
    "    with open(filename, 'w', newline='\\n', encoding='utf-8'):\n",
    "        output_array = np.array(nested_list)\n",
    "        np.savetxt(filename, output_array, delimiter=\",\")"
   ]
  },
  {
   "cell_type": "code",
   "execution_count": 5,
   "metadata": {},
   "outputs": [],
   "source": [
    "def clean_and_mean(lists):\n",
    "    for nested_list in lists:\n",
    "        for i, item in enumerate(nested_list):\n",
    "            if item == '?':\n",
    "                nested_list[i] = np.NaN\n",
    "\n",
    "    means = np.nanmean(np.array(lists).astype(float), axis=0)\n",
    "\n",
    "    for nested_list in lists:\n",
    "        for y, item in enumerate(nested_list):\n",
    "            if math.isnan(float(item)):\n",
    "                nested_list[y] = means[y]\n",
    "\n",
    "    return(np.array(lists))"
   ]
  },
  {
   "cell_type": "code",
   "execution_count": 6,
   "metadata": {},
   "outputs": [],
   "source": [
    "def seperate_features_and_labels(file):\n",
    "    features = []\n",
    "    labels = []\n",
    "    for row in file:\n",
    "        features.append(row[2:])\n",
    "        labels.append(row[1])\n",
    "\n",
    "    labels_encoded = le.fit_transform(labels)\n",
    "    features = scaler.fit_transform(clean_and_mean(features))\n",
    "\n",
    "    return(features, labels_encoded)"
   ]
  },
  {
   "cell_type": "code",
   "execution_count": 7,
   "metadata": {},
   "outputs": [],
   "source": [
    "def ten_fold(model, features, labels):\n",
    "    scores = []\n",
    "    splits = 10\n",
    "    cv = KFold(n_splits=splits, random_state=1, shuffle=False)\n",
    "    for train_index, test_index in cv.split(features):\n",
    "        x_train, x_test, y_train, y_test = features[train_index], features[\n",
    "            test_index], labels[train_index], labels[test_index]\n",
    "        model.fit(x_train, y_train)\n",
    "        scores.append(model.score(x_test, y_test))\n",
    "    return scores"
   ]
  },
  {
   "cell_type": "code",
   "execution_count": 8,
   "metadata": {},
   "outputs": [],
   "source": [
    "data = get_data('wpbc.data')\n",
    "features, labels = seperate_features_and_labels(data)\n",
    "to_csv('Features.csv', features)\n",
    "to_csv('Labels.csv', labels)"
   ]
  },
  {
   "cell_type": "code",
   "execution_count": 9,
   "metadata": {},
   "outputs": [
    {
     "name": "stdout",
     "output_type": "stream",
     "text": [
      "0.6807894736842106\n"
     ]
    }
   ],
   "source": [
    "nb_model = GaussianNB()\n",
    "scores = ten_fold(nb_model, features, labels)\n",
    "print(np.mean(scores))"
   ]
  },
  {
   "cell_type": "code",
   "execution_count": 10,
   "metadata": {},
   "outputs": [],
   "source": [
    "dt_model = DecisionTreeClassifier()"
   ]
  },
  {
   "cell_type": "code",
   "execution_count": 11,
   "metadata": {},
   "outputs": [
    {
     "name": "stdout",
     "output_type": "stream",
     "text": [
      "0.6760526315789473\n"
     ]
    }
   ],
   "source": [
    "scores = ten_fold(dt_model, features, labels)\n",
    "print(np.mean(scores))"
   ]
  }
 ],
 "metadata": {
  "kernelspec": {
   "display_name": "Python 3",
   "language": "python",
   "name": "python3"
  },
  "language_info": {
   "codemirror_mode": {
    "name": "ipython",
    "version": 3
   },
   "file_extension": ".py",
   "mimetype": "text/x-python",
   "name": "python",
   "nbconvert_exporter": "python",
   "pygments_lexer": "ipython3",
   "version": "3.7.2"
  }
 },
 "nbformat": 4,
 "nbformat_minor": 2
}
